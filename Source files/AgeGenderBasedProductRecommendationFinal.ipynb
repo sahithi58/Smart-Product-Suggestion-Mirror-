{
 "cells": [
  {
   "cell_type": "code",
   "execution_count": 49,
   "metadata": {},
   "outputs": [],
   "source": [
    "# Importing the libraries\n",
    "import numpy as np\n",
    "import matplotlib.pyplot as plt\n",
    "import pandas as pd\n",
    "import pickle\n",
    "from sklearn.externals import joblib\n",
    "\n",
    "\n"
   ]
  },
  {
   "cell_type": "code",
   "execution_count": 50,
   "metadata": {},
   "outputs": [],
   "source": [
    "# Importing the dataset\n",
    "dataset = pd.read_csv('BlackFridayn.csv')                \n",
    "X = dataset.iloc[:, [0,2,3,5]].values\n",
    "y = dataset.iloc[:, 8].values\n",
    "\n",
    "\n"
   ]
  },
  {
   "cell_type": "code",
   "execution_count": 51,
   "metadata": {},
   "outputs": [],
   "source": [
    "#from sklearn.preprocessing import Imputer\n",
    "#imputer = Imputer(missing_values= 'NaN', strategy= 'most_frequent', axis= 0)\n",
    "#imputer = imputer.fit(X[:,[4,5]])\n",
    "#X[:,[4,5]] = imputer.transform(X[:,[4,5]])"
   ]
  },
  {
   "cell_type": "code",
   "execution_count": 52,
   "metadata": {},
   "outputs": [
    {
     "name": "stdout",
     "output_type": "stream",
     "text": [
      "[[1000001 'F' '0-14' 'A']\n",
      " [1000001 'F' '0-14' 'A']\n",
      " [1000001 'F' '0-14' 'A']\n",
      " [1000001 'F' '0-14' 'A']\n",
      " [1000002 'M' '56-100' 'C']\n",
      " [1000003 'M' '20-31' 'A']\n",
      " [1000004 'M' '41-48' 'B']\n",
      " [1000004 'M' '41-48' 'B']\n",
      " [1000004 'M' '41-48' 'B']\n",
      " [1000005 'M' '20-31' 'A']\n",
      " [1000005 'M' '20-31' 'A']\n",
      " [1000005 'M' '20-31' 'A']\n",
      " [1000005 'M' '20-31' 'A']\n",
      " [1000005 'M' '20-31' 'A']\n",
      " [1000006 'F' '49-55' 'A']\n",
      " [1000006 'F' '49-55' 'A']\n",
      " [1000006 'F' '49-55' 'A']\n",
      " [1000006 'F' '49-55' 'A']\n",
      " [1000007 'M' '32-40' 'B']\n",
      " [1000008 'M' '20-31' 'C']\n",
      " [1000008 'M' '20-31' 'C']\n",
      " [1000008 'M' '20-31' 'C']\n",
      " [1000008 'M' '20-31' 'C']\n",
      " [1000008 'M' '20-31' 'C']\n",
      " [1000008 'M' '20-31' 'C']\n",
      " [1000009 'M' '20-31' 'C']\n",
      " [1000009 'M' '20-31' 'C']\n",
      " [1000009 'M' '20-31' 'C']\n",
      " [1000009 'M' '20-31' 'C']\n",
      " [1000010 'F' '32-40' 'B']\n",
      " [1000010 'F' '32-40' 'B']\n",
      " [1000010 'F' '32-40' 'B']\n",
      " [1000010 'F' '32-40' 'B']\n",
      " [1000010 'F' '32-40' 'B']\n",
      " [1000010 'F' '32-40' 'B']\n",
      " [1000010 'F' '32-40' 'B']\n",
      " [1000010 'F' '32-40' 'B']\n",
      " [1000010 'F' '32-40' 'B']\n",
      " [1000010 'F' '32-40' 'B']\n",
      " [1000010 'F' '32-40' 'B']\n",
      " [1000010 'F' '32-40' 'B']\n",
      " [1000010 'F' '32-40' 'B']\n",
      " [1000010 'F' '32-40' 'B']\n",
      " [1000010 'F' '32-40' 'B']\n",
      " [1000010 'F' '32-40' 'B']\n",
      " [1000010 'F' '32-40' 'B']\n",
      " [1000010 'F' '32-40' 'B']\n",
      " [1000011 'F' '20-31' 'C']\n",
      " [1000011 'F' '20-31' 'C']\n",
      " [1000011 'F' '20-31' 'C']\n",
      " [1000012 'M' '20-31' 'C']\n",
      " [1000012 'M' '20-31' 'C']\n",
      " [1000013 'M' '41-48' 'C']\n",
      " [1000013 'M' '41-48' 'C']\n",
      " [1000013 'M' '41-48' 'C']\n",
      " [1000014 'M' '32-40' 'C']\n",
      " [1000015 'M' '20-31' 'A']\n",
      " [1000015 'M' '20-31' 'A']\n",
      " [1000015 'M' '20-31' 'A']\n",
      " [1000015 'M' '20-31' 'A']\n",
      " [1000015 'M' '20-31' 'A']\n",
      " [1000015 'M' '20-31' 'A']\n",
      " [1000015 'M' '20-31' 'A']\n",
      " [1000015 'M' '20-31' 'A']\n",
      " [1000015 'M' '20-31' 'A']\n",
      " [1000016 'F' '32-40' 'C']\n",
      " [1000016 'F' '32-40' 'C']\n",
      " [1000017 'M' '49-55' 'C']\n",
      " [1000017 'M' '49-55' 'C']\n",
      " [1000017 'M' '49-55' 'C']\n",
      " [1000018 'F' '15-19' 'B']\n",
      " [1000018 'F' '15-19' 'B']\n",
      " [1000018 'F' '15-19' 'B']\n",
      " [1000018 'F' '15-19' 'B']\n",
      " [1000018 'F' '15-19' 'B']\n",
      " [1000018 'F' '15-19' 'B']\n",
      " [1000018 'F' '15-19' 'B']\n",
      " [1000018 'F' '15-19' 'B']\n",
      " [1000018 'F' '15-19' 'B']\n",
      " [1000018 'F' '15-19' 'B']\n",
      " [1000018 'F' '15-19' 'B']\n",
      " [1000018 'F' '15-19' 'B']\n",
      " [1000018 'F' '15-19' 'B']\n",
      " [1000018 'F' '15-19' 'B']\n",
      " [1000018 'F' '15-19' 'B']\n",
      " [1000019 'M' '0-14' 'A']\n",
      " [1000019 'M' '0-14' 'A']\n",
      " [1000019 'M' '0-14' 'A']\n",
      " [1000019 'M' '0-14' 'A']\n",
      " [1000019 'M' '0-14' 'A']\n",
      " [1000019 'M' '0-14' 'A']\n",
      " [1000019 'M' '0-14' 'A']\n",
      " [1000019 'M' '0-14' 'A']\n",
      " [1000019 'M' '0-14' 'A']\n",
      " [1000019 'M' '0-14' 'A']\n",
      " [1000019 'M' '0-14' 'A']\n",
      " [1000019 'M' '0-14' 'A']\n",
      " [1000021 'M' '15-19' 'B']\n",
      " [1000022 'M' '15-19' 'A']\n",
      " [1000022 'M' '15-19' 'A']]\n"
     ]
    }
   ],
   "source": [
    "#print(X(1:9, ncol=9))\n",
    "\n",
    "\n",
    "test = np.array(X)\n",
    "np.set_printoptions(threshold=np.nan)\n",
    "print(test[0:100,:])\n"
   ]
  },
  {
   "cell_type": "code",
   "execution_count": 22,
   "metadata": {},
   "outputs": [],
   "source": [
    "# y"
   ]
  },
  {
   "cell_type": "code",
   "execution_count": 23,
   "metadata": {},
   "outputs": [],
   "source": [
    "#Categorical data\n",
    "from sklearn.preprocessing import LabelEncoder, OneHotEncoder\n",
    "labelencoder_X = LabelEncoder()\n",
    "#X[:, 0] = labelencoder_X.fit_transform(X[:, 0])\n",
    "X[:, 1] = labelencoder_X.fit_transform(X[:, 1])\n",
    "X[:, 2] = labelencoder_X.fit_transform(X[:, 2])\n",
    "X[:, 3] = labelencoder_X.fit_transform(X[:, 3])\n"
   ]
  },
  {
   "cell_type": "code",
   "execution_count": 24,
   "metadata": {},
   "outputs": [
    {
     "data": {
      "text/plain": [
       "['Age_LabelEncode.pkl']"
      ]
     },
     "execution_count": 24,
     "metadata": {},
     "output_type": "execute_result"
    }
   ],
   "source": [
    "Age_LabelEncode = \"Age_LabelEncode.pkl\"  \n",
    "joblib.dump(labelencoder_X, Age_LabelEncode)"
   ]
  },
  {
   "cell_type": "code",
   "execution_count": 25,
   "metadata": {},
   "outputs": [],
   "source": [
    "# test = np.array(X)\n",
    "# print(test[0:100,:])"
   ]
  },
  {
   "cell_type": "code",
   "execution_count": 26,
   "metadata": {},
   "outputs": [],
   "source": [
    "# Splitting the dataset into the Training set and Test set\n",
    "from sklearn.model_selection import train_test_split\n",
    "X_train, X_test, y_train, y_test = train_test_split(X, y, test_size = 0.01)\n"
   ]
  },
  {
   "cell_type": "code",
   "execution_count": 27,
   "metadata": {},
   "outputs": [],
   "source": [
    "# Age_X_Train = open(\"Age_X_Train.pkl\",\"wb\")\n",
    "# pickle.dump(X_train, Age_X_Train)\n",
    "# Age_X_Train.close()"
   ]
  },
  {
   "cell_type": "code",
   "execution_count": 28,
   "metadata": {},
   "outputs": [],
   "source": [
    "# Age_y_Train = open(\"Age_y_Train.pkl\",\"wb\")\n",
    "# pickle.dump(y_train, Age_y_Train)\n",
    "# Age_y_Train.close()"
   ]
  },
  {
   "cell_type": "code",
   "execution_count": 29,
   "metadata": {},
   "outputs": [
    {
     "name": "stderr",
     "output_type": "stream",
     "text": [
      "/Users/likith/Documents/Virtal_Env_Machine_Learing/fai_project/lib/python3.7/site-packages/sklearn/utils/validation.py:595: DataConversionWarning: Data with input dtype object was converted to float64 by StandardScaler.\n",
      "  warnings.warn(msg, DataConversionWarning)\n",
      "/Users/likith/Documents/Virtal_Env_Machine_Learing/fai_project/lib/python3.7/site-packages/sklearn/utils/validation.py:595: DataConversionWarning: Data with input dtype object was converted to float64 by StandardScaler.\n",
      "  warnings.warn(msg, DataConversionWarning)\n",
      "/Users/likith/Documents/Virtal_Env_Machine_Learing/fai_project/lib/python3.7/site-packages/sklearn/utils/validation.py:595: DataConversionWarning: Data with input dtype object was converted to float64 by StandardScaler.\n",
      "  warnings.warn(msg, DataConversionWarning)\n"
     ]
    }
   ],
   "source": [
    "#eature Scaling\n",
    "from sklearn.preprocessing import StandardScaler\n",
    "sc = StandardScaler()\n",
    "X_train = sc.fit_transform(X_train)\n",
    "X_test = sc.transform(X_test)"
   ]
  },
  {
   "cell_type": "code",
   "execution_count": 30,
   "metadata": {},
   "outputs": [
    {
     "data": {
      "text/plain": [
       "['Age_Scaler.pkl']"
      ]
     },
     "execution_count": 30,
     "metadata": {},
     "output_type": "execute_result"
    }
   ],
   "source": [
    "Age_Scaler = \"Age_Scaler.pkl\"  \n",
    "joblib.dump(sc, Age_Scaler)"
   ]
  },
  {
   "cell_type": "code",
   "execution_count": 31,
   "metadata": {},
   "outputs": [],
   "source": [
    "# Scaler = open(\"Age_Scaler.pkl\",\"wb\")\n",
    "# pickle.dump(sc, Scaler)\n",
    "# Scaler.close()"
   ]
  },
  {
   "cell_type": "code",
   "execution_count": 32,
   "metadata": {
    "scrolled": true
   },
   "outputs": [],
   "source": [
    "#sc"
   ]
  },
  {
   "cell_type": "code",
   "execution_count": 33,
   "metadata": {},
   "outputs": [],
   "source": [
    "# Applying LDA\n",
    "from sklearn.discriminant_analysis import LinearDiscriminantAnalysis as LDA\n",
    "lda = LDA(n_components = 2)\n",
    "X_train = lda.fit_transform(X_train, y_train)\n",
    "X_test = lda.transform(X_test)\n"
   ]
  },
  {
   "cell_type": "code",
   "execution_count": 34,
   "metadata": {},
   "outputs": [
    {
     "data": {
      "text/plain": [
       "['Age_LDA.pkl']"
      ]
     },
     "execution_count": 34,
     "metadata": {},
     "output_type": "execute_result"
    }
   ],
   "source": [
    "Age_LDA = \"Age_LDA.pkl\"  \n",
    "joblib.dump(lda, Age_LDA)"
   ]
  },
  {
   "cell_type": "code",
   "execution_count": 35,
   "metadata": {},
   "outputs": [],
   "source": [
    "# Age_LDA = open(\"Age_LDA.pkl\",\"wb\")\n",
    "# pickle.dump(lda, Age_LDA)\n",
    "# Age_LDA.close()"
   ]
  },
  {
   "cell_type": "code",
   "execution_count": 36,
   "metadata": {},
   "outputs": [],
   "source": [
    "# lda"
   ]
  },
  {
   "cell_type": "code",
   "execution_count": 37,
   "metadata": {},
   "outputs": [],
   "source": [
    "#X_test"
   ]
  },
  {
   "cell_type": "code",
   "execution_count": 38,
   "metadata": {},
   "outputs": [
    {
     "data": {
      "text/plain": [
       "RandomForestClassifier(bootstrap=True, class_weight=None, criterion='entropy',\n",
       "            max_depth=None, max_features='auto', max_leaf_nodes=None,\n",
       "            min_impurity_decrease=0.0, min_impurity_split=None,\n",
       "            min_samples_leaf=1, min_samples_split=2,\n",
       "            min_weight_fraction_leaf=0.0, n_estimators=10, n_jobs=None,\n",
       "            oob_score=False, random_state=0, verbose=0, warm_start=False)"
      ]
     },
     "execution_count": 38,
     "metadata": {},
     "output_type": "execute_result"
    }
   ],
   "source": [
    "# Fitting Random Forest Classification to the Training set\n",
    "from sklearn.ensemble import RandomForestClassifier\n",
    "classifier = RandomForestClassifier(n_estimators = 10, criterion = 'entropy', random_state = 0)\n",
    "classifier.fit(X_train, y_train)"
   ]
  },
  {
   "cell_type": "code",
   "execution_count": 39,
   "metadata": {},
   "outputs": [],
   "source": [
    "# Predicting the Test set results\n",
    "y_pred = classifier.predict(X_test)\n",
    "\n",
    "# Making the Confusion Matrix\n",
    "from sklearn.metrics import confusion_matrix\n",
    "cm = confusion_matrix(y_test, y_pred)\n"
   ]
  },
  {
   "cell_type": "code",
   "execution_count": 40,
   "metadata": {},
   "outputs": [],
   "source": [
    "\n",
    "from sklearn.metrics import accuracy_score\n",
    "\n",
    "cm2=  accuracy_score(y_test, y_pred)\n",
    "\n",
    "\n",
    "\n"
   ]
  },
  {
   "cell_type": "code",
   "execution_count": 41,
   "metadata": {},
   "outputs": [
    {
     "name": "stdout",
     "output_type": "stream",
     "text": [
      "0.3712797619047619\n"
     ]
    }
   ],
   "source": [
    "print(cm2)"
   ]
  },
  {
   "cell_type": "code",
   "execution_count": 42,
   "metadata": {},
   "outputs": [
    {
     "data": {
      "text/plain": [
       "0.3712797619047619"
      ]
     },
     "execution_count": 42,
     "metadata": {},
     "output_type": "execute_result"
    }
   ],
   "source": [
    "cm2"
   ]
  },
  {
   "cell_type": "code",
   "execution_count": 43,
   "metadata": {},
   "outputs": [
    {
     "data": {
      "text/plain": [
       "['Age_Random_Forest.pkl']"
      ]
     },
     "execution_count": 43,
     "metadata": {},
     "output_type": "execute_result"
    }
   ],
   "source": [
    "Age_Random_Forest = \"Age_Random_Forest.pkl\"  \n",
    "joblib.dump(classifier, Age_Random_Forest)"
   ]
  },
  {
   "cell_type": "code",
   "execution_count": 44,
   "metadata": {},
   "outputs": [],
   "source": [
    "# import pickle\n",
    "\n",
    "# Age_Random_Forest_Model = open(\"Age_Random_Forest_Model.pkl\",\"wb\")\n"
   ]
  },
  {
   "cell_type": "code",
   "execution_count": 45,
   "metadata": {},
   "outputs": [],
   "source": [
    "# pickle.dump(classifier, Age_Random_Forest_Model)\n",
    "# Age_Random_Forest_Model.close()\n"
   ]
  },
  {
   "cell_type": "code",
   "execution_count": 47,
   "metadata": {},
   "outputs": [
    {
     "name": "stdout",
     "output_type": "stream",
     "text": [
      "0.3712797619047619\n"
     ]
    }
   ],
   "source": [
    "# load the model from disk\n",
    "# loaded_model = pickle.load(open(\"Age_Random_Forest_Model.pkl\", 'rb'))\n",
    "loaded_model = joblib.load(\"Age_Random_Forest.pkl\")\n",
    "result = loaded_model.score(X_test, y_test)\n",
    "print(result)"
   ]
  },
  {
   "cell_type": "code",
   "execution_count": null,
   "metadata": {},
   "outputs": [],
   "source": [
    "# X_test"
   ]
  },
  {
   "cell_type": "code",
   "execution_count": null,
   "metadata": {},
   "outputs": [],
   "source": [
    "# y_test"
   ]
  },
  {
   "cell_type": "code",
   "execution_count": null,
   "metadata": {},
   "outputs": [],
   "source": []
  },
  {
   "cell_type": "code",
   "execution_count": null,
   "metadata": {},
   "outputs": [],
   "source": [
    "# a = [[1000001, 0, 0, 8370]]\n",
    "# b = [3]\n"
   ]
  },
  {
   "cell_type": "code",
   "execution_count": null,
   "metadata": {
    "scrolled": false
   },
   "outputs": [],
   "source": [
    "# a = sc.transform(a)"
   ]
  },
  {
   "cell_type": "code",
   "execution_count": null,
   "metadata": {},
   "outputs": [],
   "source": [
    "# result = loaded_model.score(X_test, y_test)\n",
    "# print(result)"
   ]
  }
 ],
 "metadata": {
  "kernelspec": {
   "display_name": "Python 3",
   "language": "python",
   "name": "python3"
  },
  "language_info": {
   "codemirror_mode": {
    "name": "ipython",
    "version": 3
   },
   "file_extension": ".py",
   "mimetype": "text/x-python",
   "name": "python",
   "nbconvert_exporter": "python",
   "pygments_lexer": "ipython3",
   "version": "3.7.1"
  }
 },
 "nbformat": 4,
 "nbformat_minor": 2
}
